{
  "nbformat": 4,
  "nbformat_minor": 0,
  "metadata": {
    "colab": {
      "name": "NumpyBasics.ipynb",
      "provenance": [],
      "collapsed_sections": [],
      "authorship_tag": "ABX9TyMLhEeMRBXQXqAD4BMhUC03",
      "include_colab_link": true
    },
    "kernelspec": {
      "name": "python3",
      "display_name": "Python 3"
    },
    "language_info": {
      "name": "python"
    }
  },
  "cells": [
    {
      "cell_type": "markdown",
      "metadata": {
        "id": "view-in-github",
        "colab_type": "text"
      },
      "source": [
        "<a href=\"https://colab.research.google.com/github/ianomunga/ExploringNumpy/blob/main/NumpyBasics.ipynb\" target=\"_parent\"><img src=\"https://colab.research.google.com/assets/colab-badge.svg\" alt=\"Open In Colab\"/></a>"
      ]
    },
    {
      "cell_type": "code",
      "execution_count": null,
      "metadata": {
        "id": "X00ehPKXTcsL"
      },
      "outputs": [],
      "source": [
        "import numpy as np\n",
        "np.__version__\n",
        "import matplotlib.pyplot as plt"
      ]
    },
    {
      "cell_type": "code",
      "source": [
        "a = [1,2,3,4,5,6,7]\n",
        "arr1 = np.array(a)\n",
        "arr1"
      ],
      "metadata": {
        "colab": {
          "base_uri": "https://localhost:8080/"
        },
        "id": "_acUFO_LYkiZ",
        "outputId": "7212c9e7-73a7-4d07-ecd6-eed0c34d18da"
      },
      "execution_count": null,
      "outputs": [
        {
          "output_type": "execute_result",
          "data": {
            "text/plain": [
              "array([1, 2, 3, 4, 5, 6, 7])"
            ]
          },
          "metadata": {},
          "execution_count": 2
        }
      ]
    },
    {
      "cell_type": "code",
      "source": [
        "# Create a length-10 integer array filled with zeros\n",
        "a = np.zeros(10)\n",
        "print('length-10 integer array filled with zeros', end='\\n')\n",
        "print(a)\n",
        "# Create a 3x5 floating-point array filled with 1s\n",
        "b = np.ones(10)\n",
        "print('3x5 floating-point array filled with 1s', end='\\n')\n",
        "print(b)\n",
        "# Create a 3x5 array filled with 3.14\n",
        "c = np.full((3,5), 3.14)\n",
        "print('3x5 array filled with 3.14', end='\\n')\n",
        "print(c)\n",
        "# Create an array filled with a linear sequence\n",
        "# Starting at 0, ending at 20, stepping by 2\n",
        "# (this is similar to the built-in range() function)\n",
        "d = np.arange(0, 20, 2)\n",
        "print('linear sequence Starting at 0, ending at 20, stepping by 2', end='\\n')\n",
        "print(d)\n",
        "# Create an array of five values evenly spaced between 0 and 1\n",
        "e = np.linspace(0, 1, 5)\n",
        "print('array of five values evenly spaced between 0 and 1', end='\\n')\n",
        "print(e)\n",
        "# Create a 3x3 array of uniformly distributed\n",
        "# random values between 0 and 1\n",
        "f = np.random.uniform(0, 1, (3,3))\n",
        "print('a 3x3 array of uniformly distributed random values between 0 and 1', end='\\n')\n",
        "print(f)\n",
        "# Create a 3x3 array of normally distributed random values\n",
        "# with mean 0 and standard deviation 1\n",
        "g = np.random.normal(0, 1, (3,3))\n",
        "print('a 3x3 array of normally distributed random values with mean 0 and standard deviation 1', end='\\n')\n",
        "print(g)\n",
        "# Create a 3x3 array of random integers in the interval [0, 10)\n",
        "h = np.random.randint(0,10, (3,3))\n",
        "print('a 3x3 array of random integers in the interval [0, 10)', end='\\n')\n",
        "print(h)\n",
        "# Create a 3x3 identity matrix\n",
        "i = np.eye(3)\n",
        "print('a 3x3 identity matrix', end='\\n')\n",
        "print(i)\n",
        " # Create an uninitialized array of three integers\n",
        " # The values will be whatever happens to already exist at that\n",
        " # memory location\n",
        "j = np.empty(3)\n",
        "print('an uninitialized array of three integers', end='\\n')\n",
        "print(j)"
      ],
      "metadata": {
        "colab": {
          "base_uri": "https://localhost:8080/"
        },
        "id": "RKB7BuvRYwsq",
        "outputId": "70f4444f-8f45-4449-be3e-ee6a59261a2b"
      },
      "execution_count": null,
      "outputs": [
        {
          "output_type": "stream",
          "name": "stdout",
          "text": [
            "length-10 integer array filled with zeros\n",
            "[0. 0. 0. 0. 0. 0. 0. 0. 0. 0.]\n",
            "3x5 floating-point array filled with 1s\n",
            "[1. 1. 1. 1. 1. 1. 1. 1. 1. 1.]\n",
            "3x5 array filled with 3.14\n",
            "[[3.14 3.14 3.14 3.14 3.14]\n",
            " [3.14 3.14 3.14 3.14 3.14]\n",
            " [3.14 3.14 3.14 3.14 3.14]]\n",
            "linear sequence Starting at 0, ending at 20, stepping by 2\n",
            "[ 0  2  4  6  8 10 12 14 16 18]\n",
            "array of five values evenly spaced between 0 and 1\n",
            "[0.   0.25 0.5  0.75 1.  ]\n",
            "a 3x3 array of uniformly distributed random values between 0 and 1\n",
            "[[0.37118706 0.54936881 0.61602942]\n",
            " [0.72328452 0.69447643 0.29179504]\n",
            " [0.03739549 0.46418624 0.8158679 ]]\n",
            "a 3x3 array of normally distributed random values with mean 0 and standard deviation 1\n",
            "[[-0.21475508  1.3145927   0.74685431]\n",
            " [-1.18062023 -0.00296536 -1.3646601 ]\n",
            " [-0.80775984 -0.77248777 -1.07397673]]\n",
            "a 3x3 array of random integers in the interval [0, 10)\n",
            "[[4 2 2]\n",
            " [6 6 2]\n",
            " [3 7 8]]\n",
            "a 3x3 identity matrix\n",
            "[[1. 0. 0.]\n",
            " [0. 1. 0.]\n",
            " [0. 0. 1.]]\n",
            "an uninitialized array of three integers\n",
            "[1. 1. 1.]\n"
          ]
        }
      ]
    },
    {
      "cell_type": "code",
      "source": [
        "np.random.seed(0)\n",
        "x1 = np.random.randint(10, size=6)\n",
        "x2 = np.random.randint(10, size=(3,4))\n",
        "x3 = np.random.randint(10, size=(3,4,5))"
      ],
      "metadata": {
        "id": "hv3iESdAlpZL"
      },
      "execution_count": null,
      "outputs": []
    },
    {
      "cell_type": "code",
      "source": [
        "print(\"x3 ndim [number of dimensions]: \", x3.ndim)\n",
        "print(\"x3 shape [size of each dimension]: \", x3.shape)\n",
        "print(\"x3 size [total size of the array]: \", x3.size)"
      ],
      "metadata": {
        "colab": {
          "base_uri": "https://localhost:8080/"
        },
        "id": "nNfU0gWm-aBg",
        "outputId": "669ed41f-f671-4c9e-caeb-829ef30d6fd4"
      },
      "execution_count": null,
      "outputs": [
        {
          "output_type": "stream",
          "name": "stdout",
          "text": [
            "x3 ndim [number of dimensions]:  3\n",
            "x3 shape [size of each dimension]:  (3, 4, 5)\n",
            "x3 size [total size of the array]:  60\n"
          ]
        }
      ]
    },
    {
      "cell_type": "code",
      "source": [
        "print(\"x3 data-type: \", x3.dtype)"
      ],
      "metadata": {
        "colab": {
          "base_uri": "https://localhost:8080/"
        },
        "id": "I9LLj9m3_ZqZ",
        "outputId": "10b03049-5947-4e6c-a8d6-e901c5929c3e"
      },
      "execution_count": null,
      "outputs": [
        {
          "output_type": "stream",
          "name": "stdout",
          "text": [
            "x3 data-type:  int64\n"
          ]
        }
      ]
    },
    {
      "cell_type": "code",
      "source": [
        "print(\"x3 itemsize[size of each array element]: \", x3.itemsize)\n",
        "print(\"x3 nbytes[total array size in bytes]: \", x3.nbytes)"
      ],
      "metadata": {
        "colab": {
          "base_uri": "https://localhost:8080/"
        },
        "id": "MuyH-zzH_kHF",
        "outputId": "a724d500-5ec1-45c8-bb04-02432c747788"
      },
      "execution_count": null,
      "outputs": [
        {
          "output_type": "stream",
          "name": "stdout",
          "text": [
            "x3 itemsize[size of each array element]:  8\n",
            "x3 nbytes[total array size in bytes]:  480\n"
          ]
        }
      ]
    },
    {
      "cell_type": "code",
      "source": [
        "x1"
      ],
      "metadata": {
        "colab": {
          "base_uri": "https://localhost:8080/"
        },
        "id": "fyGcQ8m6ABwV",
        "outputId": "c347b1b7-47f3-4f83-8c7e-f61105b13e99"
      },
      "execution_count": null,
      "outputs": [
        {
          "output_type": "execute_result",
          "data": {
            "text/plain": [
              "array([5, 0, 3, 3, 7, 9])"
            ]
          },
          "metadata": {},
          "execution_count": 8
        }
      ]
    },
    {
      "cell_type": "code",
      "source": [
        "#indexes with sq.bracket notation just like in Python\n",
        "x1[4]"
      ],
      "metadata": {
        "colab": {
          "base_uri": "https://localhost:8080/"
        },
        "id": "wJt7to2QARPA",
        "outputId": "144f2b3d-c018-4b08-b7ab-00b24baba8c7"
      },
      "execution_count": null,
      "outputs": [
        {
          "output_type": "execute_result",
          "data": {
            "text/plain": [
              "7"
            ]
          },
          "metadata": {},
          "execution_count": 9
        }
      ]
    },
    {
      "cell_type": "code",
      "source": [
        "#use negative indices to start indexing from the end of the list\n",
        "x1[-4]"
      ],
      "metadata": {
        "colab": {
          "base_uri": "https://localhost:8080/"
        },
        "id": "oaRbencyAUaI",
        "outputId": "607fc550-cdf2-4001-b1ae-19a64cf640fa"
      },
      "execution_count": null,
      "outputs": [
        {
          "output_type": "execute_result",
          "data": {
            "text/plain": [
              "3"
            ]
          },
          "metadata": {},
          "execution_count": 10
        }
      ]
    },
    {
      "cell_type": "code",
      "source": [
        "x2"
      ],
      "metadata": {
        "colab": {
          "base_uri": "https://localhost:8080/"
        },
        "id": "ZZL0b949AYJP",
        "outputId": "6d3cd9ac-cfba-42dc-a5cc-8d9fdfdf1927"
      },
      "execution_count": null,
      "outputs": [
        {
          "output_type": "execute_result",
          "data": {
            "text/plain": [
              "array([[3, 5, 2, 4],\n",
              "       [7, 6, 8, 8],\n",
              "       [1, 6, 7, 7]])"
            ]
          },
          "metadata": {},
          "execution_count": 11
        }
      ]
    },
    {
      "cell_type": "code",
      "source": [
        "#in multi-dim arrays, you can access single items using a comma-separated tuple of indices, enclosed in sq.brackets, as so:\n",
        "x2[1,2]\n",
        "#for the second row, third item"
      ],
      "metadata": {
        "colab": {
          "base_uri": "https://localhost:8080/"
        },
        "id": "FaUz_2J5AosK",
        "outputId": "42a41653-09d3-4726-c70e-190759a70145"
      },
      "execution_count": null,
      "outputs": [
        {
          "output_type": "execute_result",
          "data": {
            "text/plain": [
              "8"
            ]
          },
          "metadata": {},
          "execution_count": 12
        }
      ]
    },
    {
      "cell_type": "code",
      "source": [
        "#and the use of negative indexes to reverse indexing order still\n",
        "#applies for the tuples of mutli-dim notations too, as so:\n",
        "x2[-2,-1]\n",
        "#you can see that accessing the last item in a zero-indexed array using negative index \n",
        "#notation begins counting the last item as -1 and so forth: "
      ],
      "metadata": {
        "colab": {
          "base_uri": "https://localhost:8080/"
        },
        "id": "-hTbk63iA2kl",
        "outputId": "4f2931af-5c5f-4be5-91e6-ab39415e368f"
      },
      "execution_count": null,
      "outputs": [
        {
          "output_type": "execute_result",
          "data": {
            "text/plain": [
              "8"
            ]
          },
          "metadata": {},
          "execution_count": 13
        }
      ]
    },
    {
      "cell_type": "code",
      "source": [
        "#since NumPy arrays are homogenous, trying to insert a different, but upcastable dtype, \n",
        "#like a foat, say pi, into an array, will result in its concatenation\n",
        "x1[0] = 3.14159\n",
        "x1"
      ],
      "metadata": {
        "colab": {
          "base_uri": "https://localhost:8080/"
        },
        "id": "dF2EDJnVBO99",
        "outputId": "0ed4f196-7beb-49f5-c94a-47c02c7bc5e9"
      },
      "execution_count": null,
      "outputs": [
        {
          "output_type": "execute_result",
          "data": {
            "text/plain": [
              "array([3, 0, 3, 3, 7, 9])"
            ]
          },
          "metadata": {},
          "execution_count": 14
        }
      ]
    },
    {
      "cell_type": "code",
      "source": [
        "#slicing works just like it works in Python too, in the form [start:stop:step], as so:\n",
        "x1[::1]"
      ],
      "metadata": {
        "colab": {
          "base_uri": "https://localhost:8080/"
        },
        "id": "DjZ-HP-8B9bZ",
        "outputId": "3aabaf57-a2a0-4bfd-8d5d-db608eaebeb3"
      },
      "execution_count": null,
      "outputs": [
        {
          "output_type": "execute_result",
          "data": {
            "text/plain": [
              "array([3, 0, 3, 3, 7, 9])"
            ]
          },
          "metadata": {},
          "execution_count": 15
        }
      ]
    },
    {
      "cell_type": "code",
      "source": [
        "x2"
      ],
      "metadata": {
        "colab": {
          "base_uri": "https://localhost:8080/"
        },
        "id": "2I9xR2HFRZuR",
        "outputId": "b3569b2f-1b09-46c4-c06a-91e5808d3d39"
      },
      "execution_count": null,
      "outputs": [
        {
          "output_type": "execute_result",
          "data": {
            "text/plain": [
              "array([[3, 5, 2, 4],\n",
              "       [7, 6, 8, 8],\n",
              "       [1, 6, 7, 7]])"
            ]
          },
          "metadata": {},
          "execution_count": 16
        }
      ]
    },
    {
      "cell_type": "code",
      "source": [
        "#and you can slice specific parts of an ndarray too, case in point, x2, [printed above]\n",
        "#say, to get a 3*3 matrix from the 1st 3 rows and col's of x2, as so:\n",
        "print(x2[:3, :3])"
      ],
      "metadata": {
        "colab": {
          "base_uri": "https://localhost:8080/"
        },
        "id": "gzV-0u7jPQa8",
        "outputId": "a678137d-80ca-44a7-fbb8-41ba70d42682"
      },
      "execution_count": null,
      "outputs": [
        {
          "output_type": "stream",
          "name": "stdout",
          "text": [
            "[[3 5 2]\n",
            " [7 6 8]\n",
            " [1 6 7]]\n"
          ]
        }
      ]
    },
    {
      "cell_type": "code",
      "source": [
        "#to access specific rows and/or columns, you combine indexing and slicing as so:\n",
        "#first row of x2, since rows are indexed first by default [rows*column notation], can be called without indexing\n",
        "x2[0]"
      ],
      "metadata": {
        "colab": {
          "base_uri": "https://localhost:8080/"
        },
        "id": "rrfongbgRxoy",
        "outputId": "0da3b0d3-2d44-4f17-e3ca-09614919385a"
      },
      "execution_count": null,
      "outputs": [
        {
          "output_type": "execute_result",
          "data": {
            "text/plain": [
              "array([3, 5, 2, 4])"
            ]
          },
          "metadata": {},
          "execution_count": 18
        }
      ]
    },
    {
      "cell_type": "code",
      "source": [
        "#first columns, however, need to be called after the slicing's done,\n",
        "#to conform to the rows, then columns notation, as so:\n",
        "x2[:, 0]"
      ],
      "metadata": {
        "colab": {
          "base_uri": "https://localhost:8080/"
        },
        "id": "ZTXuS6LeSIpv",
        "outputId": "b15f1e27-b8e5-44eb-a15e-ed0c0ecea91e"
      },
      "execution_count": null,
      "outputs": [
        {
          "output_type": "execute_result",
          "data": {
            "text/plain": [
              "array([3, 7, 1])"
            ]
          },
          "metadata": {},
          "execution_count": 19
        }
      ]
    },
    {
      "cell_type": "code",
      "source": [
        "#slices, unlike in Python, aren't copied, so they just *views* as opposed to *copied objects that could've been manipulatable*\n",
        "print(x2)"
      ],
      "metadata": {
        "colab": {
          "base_uri": "https://localhost:8080/"
        },
        "id": "Ol5hHekmSft1",
        "outputId": "a8ffa495-29aa-4175-9289-46e9b430cada"
      },
      "execution_count": null,
      "outputs": [
        {
          "output_type": "stream",
          "name": "stdout",
          "text": [
            "[[3 5 2 4]\n",
            " [7 6 8 8]\n",
            " [1 6 7 7]]\n"
          ]
        }
      ]
    },
    {
      "cell_type": "code",
      "source": [
        "#extract a 2*2 array from x2\n",
        "x2_sub = x2[:2, :2]\n",
        "print(x2_sub)"
      ],
      "metadata": {
        "colab": {
          "base_uri": "https://localhost:8080/"
        },
        "id": "v8MP5j4oS9yZ",
        "outputId": "1a6f78c5-f68d-4d57-b6b0-1ad3168ba802"
      },
      "execution_count": null,
      "outputs": [
        {
          "output_type": "stream",
          "name": "stdout",
          "text": [
            "[[3 5]\n",
            " [7 6]]\n"
          ]
        }
      ]
    },
    {
      "cell_type": "code",
      "source": [
        "x2_sub[0,0] = 99\n",
        "print(x2_sub)"
      ],
      "metadata": {
        "colab": {
          "base_uri": "https://localhost:8080/"
        },
        "id": "X2DDT0EaTkYu",
        "outputId": "89a64385-0182-484a-c389-01a7dbe44100"
      },
      "execution_count": null,
      "outputs": [
        {
          "output_type": "stream",
          "name": "stdout",
          "text": [
            "[[99  5]\n",
            " [ 7  6]]\n"
          ]
        }
      ]
    },
    {
      "cell_type": "code",
      "source": [
        "print(x2)"
      ],
      "metadata": {
        "colab": {
          "base_uri": "https://localhost:8080/"
        },
        "id": "ruj0YSLNT1gu",
        "outputId": "641d520e-d323-48bc-b452-7d8e04e53f95"
      },
      "execution_count": null,
      "outputs": [
        {
          "output_type": "stream",
          "name": "stdout",
          "text": [
            "[[99  5  2  4]\n",
            " [ 7  6  8  8]\n",
            " [ 1  6  7  7]]\n"
          ]
        }
      ]
    },
    {
      "cell_type": "code",
      "source": [
        "#As can be seen above, the first 2*2 chunk we sliced out of x2 wasn't copied \n",
        "#into x2_sub, rather, a reference of it was what was transferred\n",
        "#---it looks like a bug, because we can't copy in this seemingly straightforward manner;\n",
        "#but it's actually a feature and a good one at that, since for very large ndarrays, \n",
        "#we can just zoom into a specific chunk of it, and edit it as needed,\n",
        "#all the while conserving the space we would've used up editing the entire buffer"
      ],
      "metadata": {
        "id": "StnPWl_mT6qN"
      },
      "execution_count": null,
      "outputs": []
    },
    {
      "cell_type": "code",
      "source": [
        "#for actual vanilla copying just be explicit, as so:\n",
        "x2_sub_copy = x2[:2, :2].copy()\n",
        "print(x2_sub_copy)"
      ],
      "metadata": {
        "colab": {
          "base_uri": "https://localhost:8080/"
        },
        "id": "mGjJWlk1UhQ0",
        "outputId": "15884989-9918-4790-a169-b445db28ee16"
      },
      "execution_count": null,
      "outputs": [
        {
          "output_type": "stream",
          "name": "stdout",
          "text": [
            "[[99  5]\n",
            " [ 7  6]]\n"
          ]
        }
      ]
    },
    {
      "cell_type": "code",
      "source": [
        "#and we can change this sub and print x2 to confirm that the changes weren't carried upwards\n",
        "x2_sub_copy[1,1] = 9\n",
        "print(x2_sub_copy)\n",
        "print(x2)"
      ],
      "metadata": {
        "colab": {
          "base_uri": "https://localhost:8080/"
        },
        "id": "q8SNdiO-Uyj6",
        "outputId": "2be51e95-1d5d-4f75-b886-ca940b7f5c36"
      },
      "execution_count": null,
      "outputs": [
        {
          "output_type": "stream",
          "name": "stdout",
          "text": [
            "[[99  5]\n",
            " [ 7  9]]\n",
            "[[99  5  2  4]\n",
            " [ 7  6  8  8]\n",
            " [ 1  6  7  7]]\n"
          ]
        }
      ]
    },
    {
      "cell_type": "code",
      "source": [
        "l = range(1000)\n",
        "%timeit [i**2 for i in l]"
      ],
      "metadata": {
        "colab": {
          "base_uri": "https://localhost:8080/"
        },
        "id": "sl5TldaVqKd0",
        "outputId": "e17ed963-7e6d-4529-a072-6b301479761e"
      },
      "execution_count": null,
      "outputs": [
        {
          "output_type": "stream",
          "name": "stdout",
          "text": [
            "1000 loops, best of 5: 263 µs per loop\n"
          ]
        }
      ]
    },
    {
      "cell_type": "code",
      "source": [
        "L = np.arange(1000)\n",
        "%timeit L**2"
      ],
      "metadata": {
        "colab": {
          "base_uri": "https://localhost:8080/"
        },
        "id": "E9GTFwpvqQuY",
        "outputId": "5408a9e3-c748-4f25-a4bc-e9443c171c34"
      },
      "execution_count": null,
      "outputs": [
        {
          "output_type": "stream",
          "name": "stdout",
          "text": [
            "The slowest run took 269.27 times longer than the fastest. This could mean that an intermediate result is being cached.\n",
            "1000000 loops, best of 5: 1.47 µs per loop\n"
          ]
        }
      ]
    },
    {
      "cell_type": "code",
      "source": [
        "#iteration in the python tnage object needs a for loop \n",
        "#and using the magic iPython function, %timeit to measure runtime\n",
        "#we see that it takes 279 microseconds to loop through the entire range in vanilla python and square everything up\n",
        "#for an np ndarray, L, it does more loops by an order of magnitude of 1000 and does it more than 10,000 times faster \n",
        "#per iteration"
      ],
      "metadata": {
        "id": "hfBRgIOrqYyg"
      },
      "execution_count": null,
      "outputs": []
    },
    {
      "cell_type": "code",
      "source": [
        "#returning the size of the first dimension\n",
        "print(x2)\n",
        "len(x2)"
      ],
      "metadata": {
        "colab": {
          "base_uri": "https://localhost:8080/"
        },
        "id": "1gdtJq5WrLUK",
        "outputId": "a83d1c20-a6ca-498f-a725-f6868c18c8c6"
      },
      "execution_count": null,
      "outputs": [
        {
          "output_type": "stream",
          "name": "stdout",
          "text": [
            "[[99  5  2  4]\n",
            " [ 7  6  8  8]\n",
            " [ 1  6  7  7]]\n"
          ]
        },
        {
          "output_type": "execute_result",
          "data": {
            "text/plain": [
              "3"
            ]
          },
          "metadata": {},
          "execution_count": 30
        }
      ]
    },
    {
      "cell_type": "code",
      "source": [
        "#create a 4*1 ndarray with a 1-2-3-4 diagonal\n",
        "# [this works by passing an array into the diagonal instantiating function \n",
        "#and the array you specify will be the diagonal of whatever array is made] \n",
        "f = np.diag(np.array([1,2,3,4]))\n",
        "f"
      ],
      "metadata": {
        "colab": {
          "base_uri": "https://localhost:8080/"
        },
        "id": "nMwwHmcrrXna",
        "outputId": "847c4d6f-ea66-44e6-ade4-a4759f7fa8ab"
      },
      "execution_count": null,
      "outputs": [
        {
          "output_type": "execute_result",
          "data": {
            "text/plain": [
              "array([[1, 0, 0, 0],\n",
              "       [0, 2, 0, 0],\n",
              "       [0, 0, 3, 0],\n",
              "       [0, 0, 0, 4]])"
            ]
          },
          "metadata": {},
          "execution_count": 31
        }
      ]
    },
    {
      "cell_type": "code",
      "source": [
        "%matplotlib inline\n",
        "#magic function to display matplotlib.pyplot as plt functions inline within the colab nb and not in a new window"
      ],
      "metadata": {
        "id": "0cX6Yyperm5N"
      },
      "execution_count": null,
      "outputs": []
    },
    {
      "cell_type": "code",
      "source": [
        "#my first visualization wohooo\n",
        "#define an evenly separated pair of arrays, with the dependent being three times \n",
        "#as spaced out as the independent one for a pretty lil graph\n",
        "#then plot with a normal plt.plot(array, pair) first to make out a line through the points\n",
        "#and then plot with a varied plt.plot(array, pair, 'o') to stick dots on each line  \n",
        "g = np.linspace(0, 25, 10)\n",
        "h = np.linspace(0,75, 10)\n",
        "plt.plot(g,h)\n",
        "plt.plot(g,h, 'o')"
      ],
      "metadata": {
        "colab": {
          "base_uri": "https://localhost:8080/",
          "height": 283
        },
        "id": "b5Rx3JBAs7Qd",
        "outputId": "c6f96ed5-01ea-45e4-d230-8c065203429c"
      },
      "execution_count": null,
      "outputs": [
        {
          "output_type": "execute_result",
          "data": {
            "text/plain": [
              "[<matplotlib.lines.Line2D at 0x7f1a2e2ec690>]"
            ]
          },
          "metadata": {},
          "execution_count": 33
        },
        {
          "output_type": "display_data",
          "data": {
            "image/png": "[encoded data removed]",
            "text/plain": [
              "<Figure size 432x288 with 1 Axes>"
            ]
          },
          "metadata": {
            "needs_background": "light"
          }
        }
      ]
    },
    {
      "cell_type": "code",
      "source": [
        ""
      ],
      "metadata": {
        "id": "HA7-IWJg0PMU"
      },
      "execution_count": null,
      "outputs": []
    },
    {
      "cell_type": "code",
      "source": [
        "#Left @ Array Reshaping, pg 65"
      ],
      "metadata": {
        "id": "OuTdUZA5VGM9"
      },
      "execution_count": null,
      "outputs": []
    },
    {
      "cell_type": "code",
      "source": [
        "#reshaping arrays changes the intial array into\n",
        "# whatever rows*columns conformation you want, as so:\n",
        "grid = np.arange(1,10)\n",
        "grid\n",
        "grid.reshape(3,3)"
      ],
      "metadata": {
        "colab": {
          "base_uri": "https://localhost:8080/"
        },
        "id": "_InHP0tQJkUg",
        "outputId": "65ce2d3d-2d23-474a-f6fc-6296dd3992ac"
      },
      "execution_count": null,
      "outputs": [
        {
          "output_type": "execute_result",
          "data": {
            "text/plain": [
              "array([[1, 2, 3],\n",
              "       [4, 5, 6],\n",
              "       [7, 8, 9]])"
            ]
          },
          "metadata": {},
          "execution_count": 35
        }
      ]
    },
    {
      "cell_type": "code",
      "source": [
        "#again, this is just a reshaped-VIEW, so printing grid again will show\n",
        "#that the array is still just a one-liner\n",
        "grid"
      ],
      "metadata": {
        "colab": {
          "base_uri": "https://localhost:8080/"
        },
        "id": "qdix14WLKH-2",
        "outputId": "6f464d67-4aee-47a2-d4a5-2d51dd652ae5"
      },
      "execution_count": null,
      "outputs": [
        {
          "output_type": "execute_result",
          "data": {
            "text/plain": [
              "array([1, 2, 3, 4, 5, 6, 7, 8, 9])"
            ]
          },
          "metadata": {},
          "execution_count": 36
        }
      ]
    },
    {
      "cell_type": "code",
      "source": [
        "# change a row vector via reshape\n",
        "grid.reshape((3,3))"
      ],
      "metadata": {
        "colab": {
          "base_uri": "https://localhost:8080/"
        },
        "id": "qDkpyBkpK733",
        "outputId": "dc091473-f966-40d6-e3fe-51f973900bbd"
      },
      "execution_count": null,
      "outputs": [
        {
          "output_type": "execute_result",
          "data": {
            "text/plain": [
              "array([[1, 2, 3],\n",
              "       [4, 5, 6],\n",
              "       [7, 8, 9]])"
            ]
          },
          "metadata": {},
          "execution_count": 37
        }
      ]
    },
    {
      "cell_type": "code",
      "source": [
        "#new-axis uses an index-notated empty slice with [at the appropriate position for rows or columns]\n",
        "#to flip the entire array on it's axis, as so:"
      ],
      "metadata": {
        "id": "9XLja0QwM-PP"
      },
      "execution_count": null,
      "outputs": []
    },
    {
      "cell_type": "code",
      "source": [
        "#change a row vector via newaxis in an index-notated empty slice\n",
        "grid[:, np.newaxis]"
      ],
      "metadata": {
        "colab": {
          "base_uri": "https://localhost:8080/"
        },
        "id": "1mJ_Zf19LbYN",
        "outputId": "41a2e79f-2eb5-411c-a2d2-8edad8d6a6b0"
      },
      "execution_count": null,
      "outputs": [
        {
          "output_type": "execute_result",
          "data": {
            "text/plain": [
              "array([[1],\n",
              "       [2],\n",
              "       [3],\n",
              "       [4],\n",
              "       [5],\n",
              "       [6],\n",
              "       [7],\n",
              "       [8],\n",
              "       [9]])"
            ]
          },
          "metadata": {},
          "execution_count": 39
        }
      ]
    },
    {
      "cell_type": "code",
      "source": [
        "#change a column vector [into a row vector] via reshape\n",
        "column_grid = grid.reshape(9,1)\n",
        "column_grid.reshape(1,9)"
      ],
      "metadata": {
        "colab": {
          "base_uri": "https://localhost:8080/"
        },
        "id": "QlzoY7CBL-4e",
        "outputId": "8308e862-c1fa-481f-9de4-01a163dfa7fa"
      },
      "execution_count": null,
      "outputs": [
        {
          "output_type": "execute_result",
          "data": {
            "text/plain": [
              "array([[1, 2, 3, 4, 5, 6, 7, 8, 9]])"
            ]
          },
          "metadata": {},
          "execution_count": 40
        }
      ]
    },
    {
      "cell_type": "code",
      "source": [
        "#change a column vector [into a row vector] via newaxis in an index-notated empty slice\n",
        "grid.reshape(9,1)[np.newaxis, :]\n",
        "#-----!not working as it should, TBD----#"
      ],
      "metadata": {
        "colab": {
          "base_uri": "https://localhost:8080/"
        },
        "id": "JyIhJVbBMBWN",
        "outputId": "96b76e32-9479-40fb-c055-dc8a748cd9d3"
      },
      "execution_count": null,
      "outputs": [
        {
          "output_type": "execute_result",
          "data": {
            "text/plain": [
              "array([[[1],\n",
              "        [2],\n",
              "        [3],\n",
              "        [4],\n",
              "        [5],\n",
              "        [6],\n",
              "        [7],\n",
              "        [8],\n",
              "        [9]]])"
            ]
          },
          "metadata": {},
          "execution_count": 41
        }
      ]
    },
    {
      "cell_type": "code",
      "source": [
        "#to split a single array\n",
        "#the params specify the split points, at the 3rd and 5th zero-based-index\n",
        "x = [1, 2, 3, 99, 99, 3, 2, 1]\n",
        "x1, x2, x3 = np.split(x, [3, 5])\n",
        "print(x1,x2,x3)"
      ],
      "metadata": {
        "colab": {
          "base_uri": "https://localhost:8080/"
        },
        "id": "uDJ_fMfePTSm",
        "outputId": "4399c291-15c9-4c0a-a94a-157418ad7e2a"
      },
      "execution_count": null,
      "outputs": [
        {
          "output_type": "stream",
          "name": "stdout",
          "text": [
            "[1 2 3] [99 99] [3 2 1]\n"
          ]
        }
      ]
    },
    {
      "cell_type": "code",
      "source": [
        "z = np.array([1,2,3,4,5])\n",
        "print(1/z)\n",
        "z"
      ],
      "metadata": {
        "colab": {
          "base_uri": "https://localhost:8080/"
        },
        "id": "kUvbQemAReeI",
        "outputId": "87d7afff-c983-4252-da9a-d3f0c89c4737"
      },
      "execution_count": null,
      "outputs": [
        {
          "output_type": "stream",
          "name": "stdout",
          "text": [
            "[1.         0.5        0.33333333 0.25       0.2       ]\n"
          ]
        },
        {
          "output_type": "execute_result",
          "data": {
            "text/plain": [
              "array([1, 2, 3, 4, 5])"
            ]
          },
          "metadata": {},
          "execution_count": 43
        }
      ]
    },
    {
      "cell_type": "code",
      "source": [
        "x_axis = np.linspace(0, np.pi, 3)\n",
        "y_axis = np.arange(0,2, 0.25)\n",
        "print(x_axis)\n",
        "print(y_axis)\n",
        "%matplotlib inline \n",
        "import matplotlib.pyplot as plt\n",
        "#fix this line to plot them against each other"
      ],
      "metadata": {
        "colab": {
          "base_uri": "https://localhost:8080/"
        },
        "id": "3rTR_FKiTRzt",
        "outputId": "5952fbdc-8a26-438d-af81-7c7dba42ccfa"
      },
      "execution_count": null,
      "outputs": [
        {
          "output_type": "stream",
          "name": "stdout",
          "text": [
            "[0.         1.57079633 3.14159265]\n",
            "[0.   0.25 0.5  0.75 1.   1.25 1.5  1.75]\n"
          ]
        }
      ]
    },
    {
      "cell_type": "code",
      "source": [
        "theta = x_axis\n",
        "print(np.sin(theta))\n",
        "print(np.cos(theta))\n",
        "print(np.tan(theta))"
      ],
      "metadata": {
        "colab": {
          "base_uri": "https://localhost:8080/"
        },
        "id": "hl7E3OG6Vw9H",
        "outputId": "7612d4b6-2bff-4e0d-c4ad-a4a3ce203959"
      },
      "execution_count": null,
      "outputs": [
        {
          "output_type": "stream",
          "name": "stdout",
          "text": [
            "[0.0000000e+00 1.0000000e+00 1.2246468e-16]\n",
            "[ 1.000000e+00  6.123234e-17 -1.000000e+00]\n",
            "[ 0.00000000e+00  1.63312394e+16 -1.22464680e-16]\n"
          ]
        }
      ]
    },
    {
      "cell_type": "code",
      "source": [
        "#inverses of the trig functions as [broadcasted] ufunc vectorizations\n",
        "#are also available in NumPy\n",
        "print(np.arcsin(theta))\n",
        "print(np.arccos(theta))\n",
        "print(np.arctan(theta))\n",
        "#I see these error but imma just ignore them for now\n",
        "#if I need trig inverses anytime soon and I still don't know \n",
        "#how to fix them, I'll just divide by 1"
      ],
      "metadata": {
        "colab": {
          "base_uri": "https://localhost:8080/"
        },
        "id": "2V6D_EbohmW2",
        "outputId": "77f06532-5eca-4de4-8ae8-da6f9cd1b1be"
      },
      "execution_count": null,
      "outputs": [
        {
          "output_type": "stream",
          "name": "stdout",
          "text": [
            "[ 0. nan nan]\n",
            "[1.57079633        nan        nan]\n",
            "[0.         1.00388482 1.26262726]\n"
          ]
        },
        {
          "output_type": "stream",
          "name": "stderr",
          "text": [
            "/usr/local/lib/python3.7/dist-packages/ipykernel_launcher.py:3: RuntimeWarning: invalid value encountered in arcsin\n",
            "  This is separate from the ipykernel package so we can avoid doing imports until\n",
            "/usr/local/lib/python3.7/dist-packages/ipykernel_launcher.py:4: RuntimeWarning: invalid value encountered in arccos\n",
            "  after removing the cwd from sys.path.\n"
          ]
        }
      ]
    },
    {
      "cell_type": "code",
      "source": [
        "exp_array = np.array([1,2,3,4])\n",
        "exp_array"
      ],
      "metadata": {
        "colab": {
          "base_uri": "https://localhost:8080/"
        },
        "id": "XAYzAz6ZihSH",
        "outputId": "07deb2a1-1958-43c9-8809-0958ad55f687"
      },
      "execution_count": null,
      "outputs": [
        {
          "output_type": "execute_result",
          "data": {
            "text/plain": [
              "array([1, 2, 3, 4])"
            ]
          },
          "metadata": {},
          "execution_count": 47
        }
      ]
    },
    {
      "cell_type": "code",
      "source": [
        "np.exp2(exp_array)"
      ],
      "metadata": {
        "colab": {
          "base_uri": "https://localhost:8080/"
        },
        "id": "Ks31LnirjmVx",
        "outputId": "f48f4b9a-9c64-4c2a-b633-49c8ad03159d"
      },
      "execution_count": null,
      "outputs": [
        {
          "output_type": "execute_result",
          "data": {
            "text/plain": [
              "array([ 2.,  4.,  8., 16.])"
            ]
          },
          "metadata": {},
          "execution_count": 48
        }
      ]
    },
    {
      "cell_type": "code",
      "source": [
        "np.power(3, exp_array)"
      ],
      "metadata": {
        "colab": {
          "base_uri": "https://localhost:8080/"
        },
        "id": "nHS8K1sPjfLe",
        "outputId": "1af11547-b24d-427d-ed49-82c4d7253ce6"
      },
      "execution_count": null,
      "outputs": [
        {
          "output_type": "execute_result",
          "data": {
            "text/plain": [
              "array([ 3,  9, 27, 81])"
            ]
          },
          "metadata": {},
          "execution_count": 49
        }
      ]
    },
    {
      "cell_type": "code",
      "source": [
        "#this is how you find the exponent of Euler's constant, e to the power of your array\n",
        "np.exp(exp_array)"
      ],
      "metadata": {
        "colab": {
          "base_uri": "https://localhost:8080/"
        },
        "id": "iNB9pb0HjtM5",
        "outputId": "7c2425c8-85e0-4b3d-b724-518ca044def4"
      },
      "execution_count": null,
      "outputs": [
        {
          "output_type": "execute_result",
          "data": {
            "text/plain": [
              "array([ 2.71828183,  7.3890561 , 20.08553692, 54.59815003])"
            ]
          },
          "metadata": {},
          "execution_count": 50
        }
      ]
    },
    {
      "cell_type": "code",
      "source": [
        "#to find the natural log, where the base, teren teren, e, Euler's constant\n",
        "np.log(exp_array)"
      ],
      "metadata": {
        "colab": {
          "base_uri": "https://localhost:8080/"
        },
        "id": "GMpCHLzQjvIp",
        "outputId": "464a7c60-ddab-4fc2-e26b-ab2cc49eb67d"
      },
      "execution_count": null,
      "outputs": [
        {
          "output_type": "execute_result",
          "data": {
            "text/plain": [
              "array([0.        , 0.69314718, 1.09861229, 1.38629436])"
            ]
          },
          "metadata": {},
          "execution_count": 51
        }
      ]
    },
    {
      "cell_type": "code",
      "source": [
        "#log to the base of 2\n",
        "np.log2(exp_array)"
      ],
      "metadata": {
        "colab": {
          "base_uri": "https://localhost:8080/"
        },
        "id": "dSnBWSzUkXRs",
        "outputId": "a1ad5725-f282-4e7e-b13a-efdbe34efb2a"
      },
      "execution_count": null,
      "outputs": [
        {
          "output_type": "execute_result",
          "data": {
            "text/plain": [
              "array([0.       , 1.       , 1.5849625, 2.       ])"
            ]
          },
          "metadata": {},
          "execution_count": 52
        }
      ]
    },
    {
      "cell_type": "code",
      "source": [
        "#log to the base of 10\n",
        "np.log10(exp_array)"
      ],
      "metadata": {
        "colab": {
          "base_uri": "https://localhost:8080/"
        },
        "id": "KrdpcvjKkYtD",
        "outputId": "176b7748-0b1b-42c9-f362-404e2e840001"
      },
      "execution_count": null,
      "outputs": [
        {
          "output_type": "execute_result",
          "data": {
            "text/plain": [
              "array([0.        , 0.30103   , 0.47712125, 0.60205999])"
            ]
          },
          "metadata": {},
          "execution_count": 53
        }
      ]
    },
    {
      "cell_type": "code",
      "source": [
        "#for more accurate logs, where subtracting 1 forces the shell to\n",
        "#return a super accurate flop number, as so:\n",
        "np.expm1(exp_array)"
      ],
      "metadata": {
        "colab": {
          "base_uri": "https://localhost:8080/"
        },
        "id": "TgoZYFmvkaeD",
        "outputId": "14358ab2-9718-45e4-d481-a273f5685bf7"
      },
      "execution_count": null,
      "outputs": [
        {
          "output_type": "execute_result",
          "data": {
            "text/plain": [
              "array([ 1.71828183,  6.3890561 , 19.08553692, 53.59815003])"
            ]
          },
          "metadata": {},
          "execution_count": 54
        }
      ]
    },
    {
      "cell_type": "code",
      "source": [
        "#and the same minus 1 logic for extra spicy accuracy, only that\n",
        "#here, it's plus 1 [written in the dumb way of 1 plus, not \n",
        "#plus 1 as you would naturally say it lol]\n",
        "np.log1p(exp_array)"
      ],
      "metadata": {
        "colab": {
          "base_uri": "https://localhost:8080/"
        },
        "id": "0Tu5kz7NlIBE",
        "outputId": "f613e377-e96e-405b-d3b8-0862fa022c6c"
      },
      "execution_count": null,
      "outputs": [
        {
          "output_type": "execute_result",
          "data": {
            "text/plain": [
              "array([0.69314718, 1.09861229, 1.38629436, 1.60943791])"
            ]
          },
          "metadata": {},
          "execution_count": 55
        }
      ]
    },
    {
      "cell_type": "code",
      "source": [
        "zed = np.empty(10)\n",
        "zed"
      ],
      "metadata": {
        "colab": {
          "base_uri": "https://localhost:8080/"
        },
        "id": "hj_16Ti2lPU_",
        "outputId": "de4237bf-d388-4d28-da03-c5253de8df71"
      },
      "execution_count": null,
      "outputs": [
        {
          "output_type": "execute_result",
          "data": {
            "text/plain": [
              "array([-10.,   0.,  10.,  20.,  30.,  40.,  50.,  60.,  70.,  80.])"
            ]
          },
          "metadata": {},
          "execution_count": 56
        }
      ]
    },
    {
      "cell_type": "code",
      "source": [
        "#explicitly saying where you want the results\n",
        "#of your array's vectorized ufunc computation to go, \n",
        "#using the out=array extra param in the np.function call as so:\n",
        "potentially_large_array = np.arange(100)\n",
        "pre_specified_empty_holder = np.empty(100)\n",
        "np.multiply(potentially_large_array, 67, out=pre_specified_empty_holder)"
      ],
      "metadata": {
        "colab": {
          "base_uri": "https://localhost:8080/"
        },
        "id": "o7OyQO7um1xm",
        "outputId": "d8f766df-04b8-419c-c31f-0168c657f588"
      },
      "execution_count": null,
      "outputs": [
        {
          "output_type": "execute_result",
          "data": {
            "text/plain": [
              "array([   0.,   67.,  134.,  201.,  268.,  335.,  402.,  469.,  536.,\n",
              "        603.,  670.,  737.,  804.,  871.,  938., 1005., 1072., 1139.,\n",
              "       1206., 1273., 1340., 1407., 1474., 1541., 1608., 1675., 1742.,\n",
              "       1809., 1876., 1943., 2010., 2077., 2144., 2211., 2278., 2345.,\n",
              "       2412., 2479., 2546., 2613., 2680., 2747., 2814., 2881., 2948.,\n",
              "       3015., 3082., 3149., 3216., 3283., 3350., 3417., 3484., 3551.,\n",
              "       3618., 3685., 3752., 3819., 3886., 3953., 4020., 4087., 4154.,\n",
              "       4221., 4288., 4355., 4422., 4489., 4556., 4623., 4690., 4757.,\n",
              "       4824., 4891., 4958., 5025., 5092., 5159., 5226., 5293., 5360.,\n",
              "       5427., 5494., 5561., 5628., 5695., 5762., 5829., 5896., 5963.,\n",
              "       6030., 6097., 6164., 6231., 6298., 6365., 6432., 6499., 6566.,\n",
              "       6633.])"
            ]
          },
          "metadata": {},
          "execution_count": 57
        }
      ]
    },
    {
      "cell_type": "code",
      "source": [
        "#left @pg 75, almost at aggregates"
      ],
      "metadata": {
        "id": "uXHcz3ztn7Cp"
      },
      "execution_count": null,
      "outputs": []
    },
    {
      "cell_type": "code",
      "source": [
        "#to reduce an array by the ufunc called on it until only a single element remains\n",
        "d = np.arange(1,7)\n",
        "print(d)\n",
        "np.add.reduce(d)"
      ],
      "metadata": {
        "id": "fELX5W7KoeXy",
        "colab": {
          "base_uri": "https://localhost:8080/"
        },
        "outputId": "f9323f48-367d-4ca4-850a-61a7dc75b91e"
      },
      "execution_count": null,
      "outputs": [
        {
          "output_type": "stream",
          "name": "stdout",
          "text": [
            "[1 2 3 4 5 6]\n"
          ]
        },
        {
          "output_type": "execute_result",
          "data": {
            "text/plain": [
              "21"
            ]
          },
          "metadata": {},
          "execution_count": 59
        }
      ]
    },
    {
      "cell_type": "code",
      "source": [
        "tester = np.arange(1,10)\n",
        "tester\n",
        "#I'm gonna use tester to demonstrate central tendency measures\n",
        "#and quick computations for summarizing large swathes of data on-the-go"
      ],
      "metadata": {
        "colab": {
          "base_uri": "https://localhost:8080/"
        },
        "id": "10BsrQHjA44S",
        "outputId": "ccf76474-7bb5-45e2-9ec1-550796eb5f52"
      },
      "execution_count": null,
      "outputs": [
        {
          "output_type": "execute_result",
          "data": {
            "text/plain": [
              "array([1, 2, 3, 4, 5, 6, 7, 8, 9])"
            ]
          },
          "metadata": {},
          "execution_count": 60
        }
      ]
    },
    {
      "cell_type": "code",
      "source": [
        "#add eveyrything, but while aware of the array's dimensionality\n",
        "tester.sum()"
      ],
      "metadata": {
        "colab": {
          "base_uri": "https://localhost:8080/"
        },
        "id": "krDB9GsHCbOA",
        "outputId": "fbf0522c-1f03-4617-eac5-8b3805abbbd4"
      },
      "execution_count": null,
      "outputs": [
        {
          "output_type": "execute_result",
          "data": {
            "text/plain": [
              "45"
            ]
          },
          "metadata": {},
          "execution_count": 61
        }
      ]
    },
    {
      "cell_type": "code",
      "source": [
        "#which is differnet from np.sum, that just adds everything up, regardless of \n",
        "#them being in different dimensions\n",
        "np.sum(tester)"
      ],
      "metadata": {
        "colab": {
          "base_uri": "https://localhost:8080/"
        },
        "id": "7T-xwdtqCnXt",
        "outputId": "a20103aa-64e0-46fb-a68e-9a277f4b04a0"
      },
      "execution_count": null,
      "outputs": [
        {
          "output_type": "execute_result",
          "data": {
            "text/plain": [
              "45"
            ]
          },
          "metadata": {},
          "execution_count": 62
        }
      ]
    },
    {
      "cell_type": "code",
      "source": [
        "#to find the minimum value\n",
        "#and maximum value of any given array\n",
        "big_array = np.random.rand(100000)\n",
        "np.min(big_array), np.max(big_array)"
      ],
      "metadata": {
        "colab": {
          "base_uri": "https://localhost:8080/"
        },
        "id": "nR_XsntYDFAK",
        "outputId": "2e919f7e-1fd9-4470-8b0b-2b8e12f95f31"
      },
      "execution_count": null,
      "outputs": [
        {
          "output_type": "execute_result",
          "data": {
            "text/plain": [
              "(4.011685566074341e-06, 0.9999993688244624)"
            ]
          },
          "metadata": {},
          "execution_count": 63
        }
      ]
    },
    {
      "cell_type": "code",
      "source": [
        "#for all of these ufuncs, just call them on thw arrays\n",
        "#using the dot operator since it's shorter\n",
        "big_array.min(), big_array.max()\n",
        "#Numpy is orders of magnitude faster than Python, \n",
        "#so use it preferentially over the vanilla Python functions"
      ],
      "metadata": {
        "colab": {
          "base_uri": "https://localhost:8080/"
        },
        "id": "W_WE51yFDcbB",
        "outputId": "179927a3-443c-42a8-d9d5-1bc9c36c86ca"
      },
      "execution_count": null,
      "outputs": [
        {
          "output_type": "execute_result",
          "data": {
            "text/plain": [
              "(4.011685566074341e-06, 0.9999993688244624)"
            ]
          },
          "metadata": {},
          "execution_count": 64
        }
      ]
    },
    {
      "cell_type": "code",
      "source": [
        "#Aggregation functions take an additional argument specifying the axis along which\n",
        "#the aggregate is computed.\n",
        "ndarray_example = np.random.randint(0, 100, (3,3))\n",
        "ndarray_example"
      ],
      "metadata": {
        "colab": {
          "base_uri": "https://localhost:8080/"
        },
        "id": "uhdKoUA2Dtzw",
        "outputId": "ab3fa03e-77b2-4b87-8e95-c63c5684e414"
      },
      "execution_count": null,
      "outputs": [
        {
          "output_type": "execute_result",
          "data": {
            "text/plain": [
              "array([[63, 81, 81],\n",
              "       [51, 95, 10],\n",
              "       [85, 87, 27]])"
            ]
          },
          "metadata": {},
          "execution_count": 65
        }
      ]
    },
    {
      "cell_type": "code",
      "source": [
        "#calculating the max values of the middle row\n",
        "ndarray_example.max(axis=1)"
      ],
      "metadata": {
        "colab": {
          "base_uri": "https://localhost:8080/"
        },
        "id": "9KozYtaBEQlF",
        "outputId": "db1d48d6-4b59-49f6-90be-0d72ac19678c"
      },
      "execution_count": null,
      "outputs": [
        {
          "output_type": "execute_result",
          "data": {
            "text/plain": [
              "array([81, 95, 87])"
            ]
          },
          "metadata": {},
          "execution_count": 66
        }
      ]
    },
    {
      "cell_type": "code",
      "source": [
        "a = np.arange(3)\n",
        "a"
      ],
      "metadata": {
        "colab": {
          "base_uri": "https://localhost:8080/"
        },
        "id": "NSFNkytRFkQ5",
        "outputId": "c7c3cc58-04c8-4591-cd23-738027cb1218"
      },
      "execution_count": null,
      "outputs": [
        {
          "output_type": "execute_result",
          "data": {
            "text/plain": [
              "array([0, 1, 2])"
            ]
          },
          "metadata": {},
          "execution_count": 67
        }
      ]
    },
    {
      "cell_type": "code",
      "source": [
        "larger_than_10 = np.sum(ndarray_example>10)\n",
        "larger_than_10"
      ],
      "metadata": {
        "colab": {
          "base_uri": "https://localhost:8080/"
        },
        "id": "n0FT5sYMG8OU",
        "outputId": "6c8702d3-5819-4032-a800-0613688403f7"
      },
      "execution_count": null,
      "outputs": [
        {
          "output_type": "execute_result",
          "data": {
            "text/plain": [
              "8"
            ]
          },
          "metadata": {},
          "execution_count": 68
        }
      ]
    },
    {
      "cell_type": "code",
      "source": [
        "x2_subset = x2[(x2>5) & (x2==99|3)]\n",
        "x2_subset"
      ],
      "metadata": {
        "colab": {
          "base_uri": "https://localhost:8080/"
        },
        "id": "_KRPICFGJTXR",
        "outputId": "f843ced6-d2cf-4d0b-ec61-ff2036b3fa39"
      },
      "execution_count": null,
      "outputs": [
        {
          "output_type": "execute_result",
          "data": {
            "text/plain": [
              "array([99, 99])"
            ]
          },
          "metadata": {},
          "execution_count": 69
        }
      ]
    },
    {
      "cell_type": "code",
      "source": [
        ""
      ],
      "metadata": {
        "id": "vR1LoQwXMNOf"
      },
      "execution_count": null,
      "outputs": []
    }
  ]
}