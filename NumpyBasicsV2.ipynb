{
  "nbformat": 4,
  "nbformat_minor": 0,
  "metadata": {
    "colab": {
      "name": "NumpyBasicsV2.ipynb",
      "provenance": [],
      "authorship_tag": "ABX9TyO6kMWG6sW+Z2r6a475HuGW",
      "include_colab_link": true
    },
    "kernelspec": {
      "name": "python3",
      "display_name": "Python 3"
    },
    "language_info": {
      "name": "python"
    }
  },
  "cells": [
    {
      "cell_type": "markdown",
      "metadata": {
        "id": "view-in-github",
        "colab_type": "text"
      },
      "source": [
        "<a href=\"https://colab.research.google.com/github/ianomunga/NumPyML/blob/main/NumpyBasicsV2.ipynb\" target=\"_parent\"><img src=\"https://colab.research.google.com/assets/colab-badge.svg\" alt=\"Open In Colab\"/></a>"
      ]
    },
    {
      "cell_type": "markdown",
      "source": [
        "##Structured Arrays and the need for efficient Heterogenous Data Manipulation as a Segway Into Pandas"
      ],
      "metadata": {
        "id": "SFyB1PMaUbHd"
      }
    },
    {
      "cell_type": "code",
      "source": [
        "import numpy as np\n",
        "np.__version__\n",
        "import matplotlib.pyplot as plt"
      ],
      "metadata": {
        "id": "Eu2RlFx4UOYv"
      },
      "execution_count": 1,
      "outputs": []
    },
    {
      "cell_type": "code",
      "execution_count": 2,
      "metadata": {
        "id": "nYEW5rSgUImL"
      },
      "outputs": [],
      "source": [
        "#Here we have related arrays that are separate\n",
        "#but need to be put together so that they\n",
        "#can be analyzed together\n",
        "name = ['Anakin', 'Bodega', 'Cthon', 'Dexter']\n",
        "age = [25, 45, 37, 19]\n",
        "weight = [55.0, 85.5, 68.0, 61.5]"
      ]
    },
    {
      "cell_type": "code",
      "source": [
        "#storing compound heterogenous data in structures and record arrays\n",
        "c_data = np.zeros(4, dtype={'names':('name', 'age', 'weight'),\n",
        "                            'formats':('U10', 'i4', 'f8')})\n",
        "print(c_data.dtype)\n",
        "#where:\n",
        "#u10 - unicode character of max length of 10\n",
        "#i4  - 4-byte integer\n",
        "#f8  - 8-byte float"
      ],
      "metadata": {
        "colab": {
          "base_uri": "https://localhost:8080/"
        },
        "id": "zipu9HsVURFF",
        "outputId": "66ce554e-64df-4265-b39c-4b472d2882ac"
      },
      "execution_count": 3,
      "outputs": [
        {
          "output_type": "stream",
          "name": "stdout",
          "text": [
            "[('name', '<U10'), ('age', '<i4'), ('weight', '<f8')]\n"
          ]
        }
      ]
    },
    {
      "cell_type": "code",
      "source": [
        " #fill it in with some info\n",
        "c_data['name'] = name\n",
        "c_data['age'] = age\n",
        "c_data['weight'] = weight\n",
        "print(c_data)\n",
        "#these can be idexed using the field names just as you would with\n",
        "#normal arrays"
      ],
      "metadata": {
        "colab": {
          "base_uri": "https://localhost:8080/"
        },
        "id": "eFBxMVsxUSEp",
        "outputId": "9fe01011-5a4f-4c8c-af40-331565a53789"
      },
      "execution_count": 4,
      "outputs": [
        {
          "output_type": "stream",
          "name": "stdout",
          "text": [
            "[('Anakin', 25, 55. ) ('Bodega', 45, 85.5) ('Cthon', 37, 68. )\n",
            " ('Dexter', 19, 61.5)]\n"
          ]
        }
      ]
    },
    {
      "cell_type": "code",
      "source": [
        "#these structured arrays are a manual way of doing what Pandas does so well already; so let's goooo"
      ],
      "metadata": {
        "id": "sPHKIjCbUU4i"
      },
      "execution_count": 5,
      "outputs": []
    }
  ]
}